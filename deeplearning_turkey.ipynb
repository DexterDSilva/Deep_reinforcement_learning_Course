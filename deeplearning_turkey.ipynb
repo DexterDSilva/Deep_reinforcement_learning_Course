{
  "nbformat": 4,
  "nbformat_minor": 0,
  "metadata": {
    "colab": {
      "name": "Copy of dex_deeplearning_turkey.ipynb",
      "version": "0.3.2",
      "provenance": [],
      "collapsed_sections": [],
      "include_colab_link": true
    },
    "kernelspec": {
      "name": "python3",
      "display_name": "Python 3"
    },
    "accelerator": "GPU"
  },
  "cells": [
    {
      "cell_type": "markdown",
      "metadata": {
        "id": "view-in-github",
        "colab_type": "text"
      },
      "source": [
        "<a href=\"https://colab.research.google.com/github/DexterDSilva/Deep_reinforcement_learning_Course/blob/master/deeplearning_turkey.ipynb\" target=\"_parent\"><img src=\"https://colab.research.google.com/assets/colab-badge.svg\" alt=\"Open In Colab\"/></a>"
      ]
    },
    {
      "metadata": {
        "id": "bfYb8b_E18xz",
        "colab_type": "code",
        "outputId": "705faa9a-c6a8-43d0-956c-7d4e2dcaf012",
        "colab": {
          "base_uri": "https://localhost:8080/",
          "height": 34
        }
      },
      "cell_type": "code",
      "source": [
        "x = 3\n",
        "print(type(x))"
      ],
      "execution_count": 0,
      "outputs": [
        {
          "output_type": "stream",
          "text": [
            "<class 'int'>\n"
          ],
          "name": "stdout"
        }
      ]
    },
    {
      "metadata": {
        "id": "i1yowcHe2OZg",
        "colab_type": "code",
        "colab": {}
      },
      "cell_type": "code",
      "source": [
        "from google.colab import drive"
      ],
      "execution_count": 0,
      "outputs": []
    },
    {
      "metadata": {
        "id": "fU4TLRDH2ar3",
        "colab_type": "code",
        "outputId": "dfb5dfac-b97c-4275-90c1-08e23e5124a8",
        "colab": {
          "base_uri": "https://localhost:8080/",
          "height": 124
        }
      },
      "cell_type": "code",
      "source": [
        "drive.mount('/content/drive/')"
      ],
      "execution_count": 0,
      "outputs": [
        {
          "output_type": "stream",
          "text": [
            "Go to this URL in a browser: https://accounts.google.com/o/oauth2/auth?client_id=947318989803-6bn6qk8qdgf4n4g3pfee6491hc0brc4i.apps.googleusercontent.com&redirect_uri=urn%3Aietf%3Awg%3Aoauth%3A2.0%3Aoob&scope=email%20https%3A%2F%2Fwww.googleapis.com%2Fauth%2Fdocs.test%20https%3A%2F%2Fwww.googleapis.com%2Fauth%2Fdrive%20https%3A%2F%2Fwww.googleapis.com%2Fauth%2Fdrive.photos.readonly%20https%3A%2F%2Fwww.googleapis.com%2Fauth%2Fpeopleapi.readonly&response_type=code\n",
            "\n",
            "Enter your authorization code:\n",
            "··········\n",
            "Mounted at /content/drive/\n"
          ],
          "name": "stdout"
        }
      ]
    },
    {
      "metadata": {
        "id": "ze5qlW1L3st-",
        "colab_type": "code",
        "outputId": "0dcf2b24-dc5c-4c19-cbbc-ead3bbbcf6cc",
        "colab": {
          "base_uri": "https://localhost:8080/",
          "height": 34
        }
      },
      "cell_type": "code",
      "source": [
        "!ls '/content/drive/My Drive/'"
      ],
      "execution_count": 0,
      "outputs": [
        {
          "output_type": "stream",
          "text": [
            " apps  'Colab Notebooks'\n"
          ],
          "name": "stdout"
        }
      ]
    },
    {
      "metadata": {
        "id": "-PeGaaFE2gb2",
        "colab_type": "code",
        "colab": {}
      },
      "cell_type": "code",
      "source": [
        "#!pip install -q keras   #already done"
      ],
      "execution_count": 0,
      "outputs": []
    },
    {
      "metadata": {
        "id": "zT2AvWyi4Euf",
        "colab_type": "code",
        "outputId": "5e66ee1d-1acd-4d71-ee97-508395480ea4",
        "colab": {
          "base_uri": "https://localhost:8080/",
          "height": 34
        }
      },
      "cell_type": "code",
      "source": [
        "from __future__ import print_function\n",
        "import keras\n"
      ],
      "execution_count": 0,
      "outputs": [
        {
          "output_type": "stream",
          "text": [
            "Using TensorFlow backend.\n"
          ],
          "name": "stderr"
        }
      ]
    },
    {
      "metadata": {
        "id": "A8tnAJyw4R33",
        "colab_type": "code",
        "outputId": "cfb53403-58ce-4397-c9cc-10b66eafa9b7",
        "colab": {
          "base_uri": "https://localhost:8080/",
          "height": 801
        }
      },
      "cell_type": "code",
      "source": [
        "!python3 '/content/drive/My Drive/apps/mnist_cnn.py'"
      ],
      "execution_count": 0,
      "outputs": [
        {
          "output_type": "stream",
          "text": [
            "Using TensorFlow backend.\n",
            "Downloading data from https://s3.amazonaws.com/img-datasets/mnist.npz\n",
            "11493376/11490434 [==============================] - 2s 0us/step\n",
            "x_train shape: (60000, 28, 28, 1)\n",
            "60000 train samples\n",
            "10000 test samples\n",
            "Train on 60000 samples, validate on 10000 samples\n",
            "Epoch 1/12\n",
            "2018-12-09 21:12:39.078659: I tensorflow/stream_executor/cuda/cuda_gpu_executor.cc:964] successful NUMA node read from SysFS had negative value (-1), but there must be at least one NUMA node, so returning NUMA node zero\n",
            "2018-12-09 21:12:39.079160: I tensorflow/core/common_runtime/gpu/gpu_device.cc:1432] Found device 0 with properties: \n",
            "name: Tesla K80 major: 3 minor: 7 memoryClockRate(GHz): 0.8235\n",
            "pciBusID: 0000:00:04.0\n",
            "totalMemory: 11.17GiB freeMemory: 11.10GiB\n",
            "2018-12-09 21:12:39.079218: I tensorflow/core/common_runtime/gpu/gpu_device.cc:1511] Adding visible gpu devices: 0\n",
            "2018-12-09 21:12:40.136429: I tensorflow/core/common_runtime/gpu/gpu_device.cc:982] Device interconnect StreamExecutor with strength 1 edge matrix:\n",
            "2018-12-09 21:12:40.136505: I tensorflow/core/common_runtime/gpu/gpu_device.cc:988]      0 \n",
            "2018-12-09 21:12:40.136543: I tensorflow/core/common_runtime/gpu/gpu_device.cc:1001] 0:   N \n",
            "2018-12-09 21:12:40.136864: W tensorflow/core/common_runtime/gpu/gpu_bfc_allocator.cc:42] Overriding allow_growth setting because the TF_FORCE_GPU_ALLOW_GROWTH environment variable is set. Original config value was 0.\n",
            "2018-12-09 21:12:40.136970: I tensorflow/core/common_runtime/gpu/gpu_device.cc:1115] Created TensorFlow device (/job:localhost/replica:0/task:0/device:GPU:0 with 10758 MB memory) -> physical GPU (device: 0, name: Tesla K80, pci bus id: 0000:00:04.0, compute capability: 3.7)\n",
            "60000/60000 [==============================] - 13s 215us/step - loss: 0.2526 - acc: 0.9226 - val_loss: 0.0723 - val_acc: 0.9761\n",
            "Epoch 2/12\n",
            "60000/60000 [==============================] - 8s 140us/step - loss: 0.0894 - acc: 0.9733 - val_loss: 0.0412 - val_acc: 0.9867\n",
            "Epoch 3/12\n",
            "60000/60000 [==============================] - 8s 140us/step - loss: 0.0665 - acc: 0.9804 - val_loss: 0.0361 - val_acc: 0.9876\n",
            "Epoch 4/12\n",
            "60000/60000 [==============================] - 8s 140us/step - loss: 0.0535 - acc: 0.9838 - val_loss: 0.0296 - val_acc: 0.9903\n",
            "Epoch 5/12\n",
            "60000/60000 [==============================] - 8s 140us/step - loss: 0.0468 - acc: 0.9854 - val_loss: 0.0307 - val_acc: 0.9898\n",
            "Epoch 6/12\n",
            "60000/60000 [==============================] - 8s 140us/step - loss: 0.0397 - acc: 0.9879 - val_loss: 0.0311 - val_acc: 0.9900\n",
            "Epoch 7/12\n",
            "60000/60000 [==============================] - 8s 140us/step - loss: 0.0371 - acc: 0.9884 - val_loss: 0.0280 - val_acc: 0.9908\n",
            "Epoch 8/12\n",
            "60000/60000 [==============================] - 8s 141us/step - loss: 0.0348 - acc: 0.9896 - val_loss: 0.0298 - val_acc: 0.9904\n",
            "Epoch 9/12\n",
            "60000/60000 [==============================] - 8s 140us/step - loss: 0.0313 - acc: 0.9904 - val_loss: 0.0291 - val_acc: 0.9900\n",
            "Epoch 10/12\n",
            "60000/60000 [==============================] - 8s 140us/step - loss: 0.0298 - acc: 0.9911 - val_loss: 0.0302 - val_acc: 0.9910\n",
            "Epoch 11/12\n",
            "60000/60000 [==============================] - 8s 141us/step - loss: 0.0277 - acc: 0.9913 - val_loss: 0.0279 - val_acc: 0.9916\n",
            "Epoch 12/12\n",
            "60000/60000 [==============================] - 8s 140us/step - loss: 0.0257 - acc: 0.9920 - val_loss: 0.0282 - val_acc: 0.9912\n",
            "Test loss: 0.028238589288802542\n",
            "Test accuracy: 0.9912\n"
          ],
          "name": "stdout"
        }
      ]
    },
    {
      "metadata": {
        "id": "MyeCFgT64rLT",
        "colab_type": "code",
        "colab": {}
      },
      "cell_type": "code",
      "source": [
        ""
      ],
      "execution_count": 0,
      "outputs": []
    }
  ]
}