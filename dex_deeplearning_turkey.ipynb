{
  "nbformat": 4,
  "nbformat_minor": 0,
  "metadata": {
    "colab": {
      "name": "dex_deeplearning_turkey.ipynb",
      "version": "0.3.2",
      "provenance": [],
      "collapsed_sections": [],
      "include_colab_link": true
    },
    "kernelspec": {
      "name": "python3",
      "display_name": "Python 3"
    },
    "accelerator": "GPU"
  },
  "cells": [
    {
      "cell_type": "markdown",
      "metadata": {
        "id": "view-in-github",
        "colab_type": "text"
      },
      "source": [
        "<a href=\"https://colab.research.google.com/github/DexterDSilva/Deep_reinforcement_learning_Course/blob/master/dex_deeplearning_turkey.ipynb\" target=\"_parent\"><img src=\"https://colab.research.google.com/assets/colab-badge.svg\" alt=\"Open In Colab\"/></a>"
      ]
    },
    {
      "metadata": {
        "id": "bfYb8b_E18xz",
        "colab_type": "code",
        "outputId": "502723a6-b1e1-46a7-d0de-253583d9d730",
        "colab": {
          "base_uri": "https://localhost:8080/",
          "height": 34
        }
      },
      "cell_type": "code",
      "source": [
        "x = 3\n",
        "print(type(x))"
      ],
      "execution_count": 0,
      "outputs": [
        {
          "output_type": "stream",
          "text": [
            "<class 'int'>\n"
          ],
          "name": "stdout"
        }
      ]
    },
    {
      "metadata": {
        "id": "i1yowcHe2OZg",
        "colab_type": "code",
        "colab": {}
      },
      "cell_type": "code",
      "source": [
        "from google.colab import drive"
      ],
      "execution_count": 0,
      "outputs": []
    },
    {
      "metadata": {
        "id": "fU4TLRDH2ar3",
        "colab_type": "code",
        "outputId": "bdbd87fb-374d-4223-e996-b66f4f6daa6c",
        "colab": {
          "base_uri": "https://localhost:8080/",
          "height": 131
        }
      },
      "cell_type": "code",
      "source": [
        "drive.mount('/content/drive/')"
      ],
      "execution_count": 0,
      "outputs": [
        {
          "output_type": "stream",
          "text": [
            "Go to this URL in a browser: https://accounts.google.com/o/oauth2/auth?client_id=947318989803-6bn6qk8qdgf4n4g3pfee6491hc0brc4i.apps.googleusercontent.com&redirect_uri=urn%3Aietf%3Awg%3Aoauth%3A2.0%3Aoob&scope=email%20https%3A%2F%2Fwww.googleapis.com%2Fauth%2Fdocs.test%20https%3A%2F%2Fwww.googleapis.com%2Fauth%2Fdrive%20https%3A%2F%2Fwww.googleapis.com%2Fauth%2Fdrive.photos.readonly%20https%3A%2F%2Fwww.googleapis.com%2Fauth%2Fpeopleapi.readonly&response_type=code\n",
            "\n",
            "Enter your authorization code:\n",
            "··········\n",
            "Mounted at /content/drive/\n"
          ],
          "name": "stdout"
        }
      ]
    },
    {
      "metadata": {
        "id": "ze5qlW1L3st-",
        "colab_type": "code",
        "outputId": "7ad4053b-dddd-45de-c278-55fd56195c56",
        "colab": {
          "base_uri": "https://localhost:8080/",
          "height": 65
        }
      },
      "cell_type": "code",
      "source": [
        "!ls '/content/drive/My Drive/'"
      ],
      "execution_count": 0,
      "outputs": [
        {
          "output_type": "stream",
          "text": [
            "apps\n"
          ],
          "name": "stdout"
        }
      ]
    },
    {
      "metadata": {
        "id": "-PeGaaFE2gb2",
        "colab_type": "code",
        "colab": {}
      },
      "cell_type": "code",
      "source": [
        "!pip install -q keras"
      ],
      "execution_count": 0,
      "outputs": []
    },
    {
      "metadata": {
        "id": "zT2AvWyi4Euf",
        "colab_type": "code",
        "outputId": "cefd6c37-58c3-4952-b6bb-34283562dae5",
        "colab": {
          "base_uri": "https://localhost:8080/",
          "height": 34
        }
      },
      "cell_type": "code",
      "source": [
        "from __future__ import print_function\n",
        "import keras\n"
      ],
      "execution_count": 0,
      "outputs": [
        {
          "output_type": "stream",
          "text": [
            "Using TensorFlow backend.\n"
          ],
          "name": "stderr"
        }
      ]
    },
    {
      "metadata": {
        "id": "A8tnAJyw4R33",
        "colab_type": "code",
        "outputId": "9004a708-253c-4270-a78a-ad22abcf31da",
        "colab": {
          "base_uri": "https://localhost:8080/",
          "height": 1005
        }
      },
      "cell_type": "code",
      "source": [
        "!python3 '/content/drive/My Drive/apps/mnist_cnn.py'"
      ],
      "execution_count": 0,
      "outputs": [
        {
          "output_type": "stream",
          "text": [
            "Using TensorFlow backend.\n",
            "Downloading data from https://s3.amazonaws.com/img-datasets/mnist.npz\n",
            "11493376/11490434 [==============================] - 1s 0us/step\n",
            "x_train shape: (60000, 28, 28, 1)\n",
            "60000 train samples\n",
            "10000 test samples\n",
            "Train on 60000 samples, validate on 10000 samples\n",
            "Epoch 1/12\n",
            "2018-11-21 10:59:25.993678: I tensorflow/stream_executor/cuda/cuda_gpu_executor.cc:964] successful NUMA node read from SysFS had negative value (-1), but there must be at least one NUMA node, so returning NUMA node zero\n",
            "2018-11-21 10:59:25.994205: I tensorflow/core/common_runtime/gpu/gpu_device.cc:1432] Found device 0 with properties: \n",
            "name: Tesla K80 major: 3 minor: 7 memoryClockRate(GHz): 0.8235\n",
            "pciBusID: 0000:00:04.0\n",
            "totalMemory: 11.17GiB freeMemory: 11.10GiB\n",
            "2018-11-21 10:59:25.994248: I tensorflow/core/common_runtime/gpu/gpu_device.cc:1511] Adding visible gpu devices: 0\n",
            "2018-11-21 10:59:26.992193: I tensorflow/core/common_runtime/gpu/gpu_device.cc:982] Device interconnect StreamExecutor with strength 1 edge matrix:\n",
            "2018-11-21 10:59:26.992258: I tensorflow/core/common_runtime/gpu/gpu_device.cc:988]      0 \n",
            "2018-11-21 10:59:26.992283: I tensorflow/core/common_runtime/gpu/gpu_device.cc:1001] 0:   N \n",
            "2018-11-21 10:59:26.992573: W tensorflow/core/common_runtime/gpu/gpu_bfc_allocator.cc:42] Overriding allow_growth setting because the TF_FORCE_GPU_ALLOW_GROWTH environment variable is set. Original config value was 0.\n",
            "2018-11-21 10:59:26.992679: I tensorflow/core/common_runtime/gpu/gpu_device.cc:1115] Created TensorFlow device (/job:localhost/replica:0/task:0/device:GPU:0 with 10758 MB memory) -> physical GPU (device: 0, name: Tesla K80, pci bus id: 0000:00:04.0, compute capability: 3.7)\n",
            "60000/60000 [==============================] - 13s 213us/step - loss: 0.2659 - acc: 0.9188 - val_loss: 0.0519 - val_acc: 0.9831\n",
            "Epoch 2/12\n",
            "60000/60000 [==============================] - 9s 142us/step - loss: 0.0840 - acc: 0.9755 - val_loss: 0.0363 - val_acc: 0.9877\n",
            "Epoch 3/12\n",
            "60000/60000 [==============================] - 9s 144us/step - loss: 0.0635 - acc: 0.9810 - val_loss: 0.0337 - val_acc: 0.9883\n",
            "Epoch 4/12\n",
            "60000/60000 [==============================] - 8s 142us/step - loss: 0.0530 - acc: 0.9841 - val_loss: 0.0285 - val_acc: 0.9906\n",
            "Epoch 5/12\n",
            "60000/60000 [==============================] - 9s 142us/step - loss: 0.0440 - acc: 0.9858 - val_loss: 0.0291 - val_acc: 0.9899\n",
            "Epoch 6/12\n",
            "60000/60000 [==============================] - 9s 142us/step - loss: 0.0423 - acc: 0.9871 - val_loss: 0.0288 - val_acc: 0.9911\n",
            "Epoch 7/12\n",
            "60000/60000 [==============================] - 8s 141us/step - loss: 0.0363 - acc: 0.9887 - val_loss: 0.0316 - val_acc: 0.9891\n",
            "Epoch 8/12\n",
            "60000/60000 [==============================] - 8s 142us/step - loss: 0.0343 - acc: 0.9896 - val_loss: 0.0283 - val_acc: 0.9908\n",
            "Epoch 9/12\n",
            "60000/60000 [==============================] - 8s 141us/step - loss: 0.0319 - acc: 0.9901 - val_loss: 0.0258 - val_acc: 0.9926\n",
            "Epoch 10/12\n",
            "60000/60000 [==============================] - 8s 141us/step - loss: 0.0289 - acc: 0.9912 - val_loss: 0.0250 - val_acc: 0.9919\n",
            "Epoch 11/12\n",
            "60000/60000 [==============================] - 9s 143us/step - loss: 0.0285 - acc: 0.9910 - val_loss: 0.0285 - val_acc: 0.9912\n",
            "Epoch 12/12\n",
            "60000/60000 [==============================] - 8s 141us/step - loss: 0.0262 - acc: 0.9918 - val_loss: 0.0298 - val_acc: 0.9917\n",
            "Test loss: 0.029785360035356097\n",
            "Test accuracy: 0.9917\n"
          ],
          "name": "stdout"
        }
      ]
    },
    {
      "metadata": {
        "id": "MyeCFgT64rLT",
        "colab_type": "code",
        "colab": {}
      },
      "cell_type": "code",
      "source": [
        ""
      ],
      "execution_count": 0,
      "outputs": []
    }
  ]
}